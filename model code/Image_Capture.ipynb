{
 "cells": [
  {
   "cell_type": "code",
   "execution_count": 1,
   "id": "36281bbe-3652-416f-bfd7-dc739768eeff",
   "metadata": {},
   "outputs": [],
   "source": [
    "import cv2\n",
    "import os\n",
    "import random\n",
    "import numpy as np\n",
    "from matplotlib import pyplot as plt\n",
    "import pandas\n",
    "import uuid"
   ]
  },
  {
   "cell_type": "code",
   "execution_count": 2,
   "id": "1cb198d3-93b3-4034-9a5f-49f82507c145",
   "metadata": {},
   "outputs": [],
   "source": [
    "#Setup Paths\n",
    "POS_PATH = os.path.join('data', 'positive')\n",
    "NEG_PATH = os.path.join('data', 'negative')\n",
    "ANC_PATH = os.path.join('data', 'anchor')"
   ]
  },
  {
   "cell_type": "code",
   "execution_count": 3,
   "id": "0056ae89-6dd0-4548-afbf-4f4d45350939",
   "metadata": {},
   "outputs": [],
   "source": [
    "os.makedirs(POS_PATH)\n",
    "os.makedirs(NEG_PATH)\n",
    "os.makedirs(ANC_PATH)"
   ]
  },
  {
   "cell_type": "code",
   "execution_count": 4,
   "id": "a57896b0-579a-4423-acaf-c8112e2e39f2",
   "metadata": {},
   "outputs": [],
   "source": [
    "#establish connection to webcap\n",
    "#number in parenthesis depends on each user, mine happend to be 0\n",
    "cap = cv2.VideoCapture(0)\n",
    "while cap.isOpened():\n",
    "    ret, frame = cap.read()\n",
    "    \n",
    "    #cut frame to 250x250\n",
    "    frame = frame[120:120+250, 200:200+250, :]\n",
    "    \n",
    "    #Collect anchors\n",
    "    if cv2.waitKey(1) & 0XFF == ord('a'):\n",
    "        #create unique file pathq\n",
    "        imgname = os.path.join(ANC_PATH, '{}.jpg'.format(uuid.uuid1()))\n",
    "        #write out anchor image            \n",
    "        cv2.imwrite(imgname, frame)\n",
    "            \n",
    "    #Collect positives\n",
    "    if cv2.waitKey(1) & 0XFF == ord('p'):\n",
    "        #create unique file path\n",
    "        imgname = os.path.join(POS_PATH, '{}.jpg'.format(uuid.uuid1()))\n",
    "        #write out positive image\n",
    "        cv2.imwrite(imgname, frame)\n",
    "\n",
    "    #show image back to screen\n",
    "    cv2.imshow('Image Collection', frame)\n",
    "    \n",
    "    #breaking gracefully\n",
    "    if cv2.waitKey(1) & 0XFF == ord('q'):\n",
    "        break\n",
    "        \n",
    "#Release the webcam\n",
    "cap.release()\n",
    "#Close image show frame\n",
    "cv2.destroyAllWindows()"
   ]
  }
 ],
 "metadata": {
  "kernelspec": {
   "display_name": "gpu2",
   "language": "python",
   "name": "gpu2"
  },
  "language_info": {
   "codemirror_mode": {
    "name": "ipython",
    "version": 3
   },
   "file_extension": ".py",
   "mimetype": "text/x-python",
   "name": "python",
   "nbconvert_exporter": "python",
   "pygments_lexer": "ipython3",
   "version": "3.9.7"
  }
 },
 "nbformat": 4,
 "nbformat_minor": 5
}
