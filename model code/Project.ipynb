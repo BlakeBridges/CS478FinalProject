{
 "cells": [
  {
   "cell_type": "code",
   "execution_count": 29,
   "id": "f3730086-0571-4a49-bbfc-2d64a6676832",
   "metadata": {},
   "outputs": [
    {
     "name": "stdout",
     "output_type": "stream",
     "text": [
      "Collecting pandas\n",
      "  Downloading pandas-1.4.2-cp39-cp39-win_amd64.whl (10.5 MB)\n",
      "Requirement already satisfied: pytz>=2020.1 in c:\\users\\theco\\anaconda3\\envs\\gpu2\\lib\\site-packages (from pandas) (2022.1)\n",
      "Requirement already satisfied: numpy>=1.18.5 in c:\\users\\theco\\anaconda3\\envs\\gpu2\\lib\\site-packages (from pandas) (1.22.3)\n",
      "Requirement already satisfied: python-dateutil>=2.8.1 in c:\\users\\theco\\anaconda3\\envs\\gpu2\\lib\\site-packages (from pandas) (2.8.2)\n",
      "Requirement already satisfied: six>=1.5 in c:\\users\\theco\\anaconda3\\envs\\gpu2\\lib\\site-packages (from python-dateutil>=2.8.1->pandas) (1.16.0)\n",
      "Installing collected packages: pandas\n",
      "Successfully installed pandas-1.4.2\n"
     ]
    }
   ],
   "source": [
    "!pip install pandas"
   ]
  },
  {
   "cell_type": "code",
   "execution_count": 98,
   "id": "cc569f4d-6b1c-4fee-ae55-3e33696cef8e",
   "metadata": {},
   "outputs": [],
   "source": [
    "#import standard dependencies\n",
    "import cv2\n",
    "import os\n",
    "import random\n",
    "import numpy as np\n",
    "from matplotlib import pyplot as plt\n",
    "import pandas\n",
    "import uuid"
   ]
  },
  {
   "cell_type": "code",
   "execution_count": 99,
   "id": "4d29115f-64f7-46e2-bbdc-cf5964d1c0fe",
   "metadata": {},
   "outputs": [],
   "source": [
    "#import tensorflow dependencies - Functional API\n",
    "from tensorflow.keras.models import Model\n",
    "from tensorflow.keras.layers import Layer, Conv2D, Dense, MaxPooling2D, Input, Flatten\n",
    "import tensorflow as tf"
   ]
  },
  {
   "cell_type": "code",
   "execution_count": 100,
   "id": "629a3002-2a35-4b93-be4e-7a3823de747c",
   "metadata": {},
   "outputs": [],
   "source": [
    "#Avoid OOM Errors by setting GPU Memory Consumption Growth\n",
    "gpus = tf.config.experimental.list_physical_devices('GPU')\n",
    "for gpu in gpus:\n",
    "    tf.config.experimental.set_memory_growth(gpu, True)"
   ]
  },
  {
   "cell_type": "code",
   "execution_count": 101,
   "id": "cf557281-821d-4abb-a61d-46a69c861d3f",
   "metadata": {},
   "outputs": [],
   "source": [
    "#Setup Paths\n",
    "POS_PATH = os.path.join('data', 'positive')\n",
    "NEG_PATH = os.path.join('data', 'negative')\n",
    "ANC_PATH = os.path.join('data', 'anchor')"
   ]
  },
  {
   "cell_type": "code",
   "execution_count": 102,
   "id": "e8737682-e831-46f0-86a1-25cfce10c2c9",
   "metadata": {},
   "outputs": [
    {
     "ename": "FileExistsError",
     "evalue": "[WinError 183] Cannot create a file when that file already exists: 'data\\\\positive'",
     "output_type": "error",
     "traceback": [
      "\u001b[1;31m---------------------------------------------------------------------------\u001b[0m",
      "\u001b[1;31mFileExistsError\u001b[0m                           Traceback (most recent call last)",
      "Input \u001b[1;32mIn [102]\u001b[0m, in \u001b[0;36m<cell line: 2>\u001b[1;34m()\u001b[0m\n\u001b[0;32m      1\u001b[0m \u001b[38;5;66;03m#Make our directories (Will give error if run and folders are already present, don't worry about that)\u001b[39;00m\n\u001b[1;32m----> 2\u001b[0m \u001b[43mos\u001b[49m\u001b[38;5;241;43m.\u001b[39;49m\u001b[43mmakedirs\u001b[49m\u001b[43m(\u001b[49m\u001b[43mPOS_PATH\u001b[49m\u001b[43m)\u001b[49m\n\u001b[0;32m      3\u001b[0m os\u001b[38;5;241m.\u001b[39mmakedirs(NEG_PATH)\n\u001b[0;32m      4\u001b[0m os\u001b[38;5;241m.\u001b[39mmakedirs(ANC_PATH)\n",
      "File \u001b[1;32m~\\anaconda3\\envs\\gpu2\\lib\\os.py:225\u001b[0m, in \u001b[0;36mmakedirs\u001b[1;34m(name, mode, exist_ok)\u001b[0m\n\u001b[0;32m    223\u001b[0m         \u001b[38;5;28;01mreturn\u001b[39;00m\n\u001b[0;32m    224\u001b[0m \u001b[38;5;28;01mtry\u001b[39;00m:\n\u001b[1;32m--> 225\u001b[0m     \u001b[43mmkdir\u001b[49m\u001b[43m(\u001b[49m\u001b[43mname\u001b[49m\u001b[43m,\u001b[49m\u001b[43m \u001b[49m\u001b[43mmode\u001b[49m\u001b[43m)\u001b[49m\n\u001b[0;32m    226\u001b[0m \u001b[38;5;28;01mexcept\u001b[39;00m \u001b[38;5;167;01mOSError\u001b[39;00m:\n\u001b[0;32m    227\u001b[0m     \u001b[38;5;66;03m# Cannot rely on checking for EEXIST, since the operating system\u001b[39;00m\n\u001b[0;32m    228\u001b[0m     \u001b[38;5;66;03m# could give priority to other errors like EACCES or EROFS\u001b[39;00m\n\u001b[0;32m    229\u001b[0m     \u001b[38;5;28;01mif\u001b[39;00m \u001b[38;5;129;01mnot\u001b[39;00m exist_ok \u001b[38;5;129;01mor\u001b[39;00m \u001b[38;5;129;01mnot\u001b[39;00m path\u001b[38;5;241m.\u001b[39misdir(name):\n",
      "\u001b[1;31mFileExistsError\u001b[0m: [WinError 183] Cannot create a file when that file already exists: 'data\\\\positive'"
     ]
    }
   ],
   "source": [
    "#Make our directories (Will give error if run and folders are already present, don't worry about that)\n",
    "os.makedirs(POS_PATH)\n",
    "os.makedirs(NEG_PATH)\n",
    "os.makedirs(ANC_PATH)"
   ]
  },
  {
   "cell_type": "code",
   "execution_count": 103,
   "id": "e904b4e7-4134-42eb-9c12-8f44bd8455cd",
   "metadata": {},
   "outputs": [],
   "source": [
    "# Labeled Faces in the Wild\n",
    "# http://vis-www.cs.umass.edu/lfw/"
   ]
  },
  {
   "cell_type": "code",
   "execution_count": 16,
   "id": "52ea7763-0d8a-4af3-a43a-a4e7880b2090",
   "metadata": {},
   "outputs": [],
   "source": [
    "# Uncompress lfw.tgz dataset\n",
    "!tar -xf lfw.tgz"
   ]
  },
  {
   "cell_type": "code",
   "execution_count": 18,
   "id": "96734f38-d5d3-440e-bf33-9477c6147877",
   "metadata": {},
   "outputs": [],
   "source": [
    "# Move lfw images to the folowing repository data/negative\n",
    "#if images are already moved, no need to run this cell\n",
    "for directory in os.listdir('lfw'):\n",
    "    for file in os.listdir(os.path.join('lfw', directory)):\n",
    "        EX_PATH = os.path.join('lfw', directory, file)\n",
    "        NEW_PATH = os.path.join(NEG_PATH, file)\n",
    "        os.replace(EX_PATH, NEW_PATH)"
   ]
  },
  {
   "cell_type": "code",
   "execution_count": 6,
   "id": "de2c5bb9-2bbd-40d7-a59b-a5b3ef81dedb",
   "metadata": {},
   "outputs": [],
   "source": [
    "#establish connection to webcap\n",
    "#number in parenthesis depends on each user, mine happend to be 0\n",
    "cap = cv2.VideoCapture(0)\n",
    "while cap.isOpened():\n",
    "    ret, frame = cap.read()\n",
    "    \n",
    "    #cut frame to 250x250\n",
    "    frame = frame[120:120+250, 200:200+250, :]\n",
    "    \n",
    "    #Collect anchors\n",
    "    if cv2.waitKey(1) & 0XFF == ord('a'):\n",
    "        #create unique file pathq\n",
    "        imgname = os.path.join(ANC_PATH, '{}.jpg'.format(uuid.uuid1()))\n",
    "        #write out anchor image            \n",
    "        cv2.imwrite(imgname, frame)\n",
    "            \n",
    "    #Collect positives\n",
    "    if cv2.waitKey(1) & 0XFF == ord('p'):\n",
    "        #create unique file path\n",
    "        imgname = os.path.join(POS_PATH, '{}.jpg'.format(uuid.uuid1()))\n",
    "        #write out positive image\n",
    "        cv2.imwrite(imgname, frame)\n",
    "\n",
    "    #show image back to screen\n",
    "    cv2.imshow('Image Collection', frame)\n",
    "    \n",
    "    #breaking gracefully\n",
    "    if cv2.waitKey(1) & 0XFF == ord('q'):\n",
    "        break\n",
    "        \n",
    "#Release the webcam\n",
    "cap.release()\n",
    "#Close image show frame\n",
    "cv2.destroyAllWindows()"
   ]
  },
  {
   "cell_type": "code",
   "execution_count": 104,
   "id": "bbf34751-dbab-4857-b7f5-3ea38cd58b1b",
   "metadata": {},
   "outputs": [],
   "source": [
    "#getting datasets from captured images\n",
    "anchor = tf.data.Dataset.list_files(ANC_PATH+'\\*.jpg').take(300)\n",
    "positive = tf.data.Dataset.list_files(POS_PATH+'\\*.jpg').take(300)\n",
    "negative = tf.data.Dataset.list_files(NEG_PATH+'\\*.jpg').take(300)"
   ]
  },
  {
   "cell_type": "code",
   "execution_count": 105,
   "id": "171d5dfb-1294-4bd9-8f75-f0ad6becc85f",
   "metadata": {},
   "outputs": [],
   "source": [
    "def preprocess(file_path):\n",
    "    #Read in image from file path\n",
    "    byte_img = tf.io.read_file(file_path)\n",
    "    #Load in image\n",
    "    img = tf.io.decode_jpeg(byte_img)\n",
    "    #Resize image to 100x100x3\n",
    "    img = tf.image.resize(img, (100, 100))\n",
    "    #Scale image to be between 0 and 1\n",
    "    img = img / 255.0\n",
    "    #Return processed image\n",
    "    return img"
   ]
  },
  {
   "cell_type": "code",
   "execution_count": 106,
   "id": "56a80559-7cf6-4ea5-b288-1e7093a78745",
   "metadata": {},
   "outputs": [],
   "source": [
    "#(anchor, positive) => 1,1,1,1,1\n",
    "#(anchor, negative) => 0,0,0,0,0\n",
    "\n",
    "positives = tf.data.Dataset.zip((anchor, positive, tf.data.Dataset.from_tensor_slices(tf.ones(len(anchor))))) \n",
    "negatives = tf.data.Dataset.zip((anchor, negative, tf.data.Dataset.from_tensor_slices(tf.zeros(len(anchor))))) \n",
    "data = positives.concatenate(negatives)"
   ]
  },
  {
   "cell_type": "code",
   "execution_count": 107,
   "id": "2a662fc1-54ed-43c6-9193-11f881a88203",
   "metadata": {},
   "outputs": [],
   "source": [
    "def preprocess_twin(input_img, validation_img, label):\n",
    "    return(preprocess(input_img), preprocess(validation_img), label)"
   ]
  },
  {
   "cell_type": "code",
   "execution_count": 108,
   "id": "a2e5f0d3-e110-4ffd-88e6-ec7767f52b0c",
   "metadata": {},
   "outputs": [],
   "source": [
    "# Build dataloader pipeline\n",
    "\n",
    "data = data.map(preprocess_twin)\n",
    "data = data.cache()\n",
    "data = data.shuffle(buffer_size = 1024)"
   ]
  },
  {
   "cell_type": "code",
   "execution_count": 109,
   "id": "5a54e21f-12c0-47ca-bb62-8559764b59cc",
   "metadata": {},
   "outputs": [],
   "source": [
    "# Training partition\n",
    "train_data = data.take(round(len(data)*.7))\n",
    "train_data = train_data.batch(16)\n",
    "train_data = train_data.prefetch(8)"
   ]
  },
  {
   "cell_type": "code",
   "execution_count": 110,
   "id": "883f8e5a-7ca4-4c7b-baef-487f97068792",
   "metadata": {},
   "outputs": [],
   "source": [
    "# Testing Partition\n",
    "test_data = data.skip(round(len(data)*.7))\n",
    "test_data = test_data.take(round(len(data)*.3))\n",
    "test_data = test_data.batch(16)\n",
    "test_data = test_data.prefetch(8)"
   ]
  },
  {
   "cell_type": "code",
   "execution_count": 111,
   "id": "975fa67b-7052-40c2-af1b-5ed56c52e901",
   "metadata": {},
   "outputs": [],
   "source": [
    "def make_embedding():\n",
    "    inp = Input(shape = (100, 100, 3), name = 'input_image')\n",
    "    \n",
    "    #first block\n",
    "    c1 = Conv2D(64, (10, 10), activation = 'relu')(inp)\n",
    "    m1 = MaxPooling2D(64, (2, 2), padding = 'same')(c1)\n",
    "    \n",
    "    #second block\n",
    "    c2 = Conv2D(128, (7, 7), activation = 'relu')(m1)\n",
    "    m2 = MaxPooling2D(64, (2, 2), padding = 'same')(c2)\n",
    "    \n",
    "    #third block\n",
    "    c3 = Conv2D(128, (4, 4), activation = 'relu')(m2)\n",
    "    m3 = MaxPooling2D(64, (2, 2), padding = 'same')(c3)\n",
    "            \n",
    "    #Final block\n",
    "    c4 = Conv2D(256, (4, 4), activation = 'relu')(m3)\n",
    "    f1 = Flatten()(c4)\n",
    "    d1 = Dense(4096, activation = 'sigmoid')(f1)\n",
    "    \n",
    "    return Model(inputs=[inp], outputs=[d1], name='embedding')"
   ]
  },
  {
   "cell_type": "code",
   "execution_count": 112,
   "id": "f3555946-98e5-4cdc-8814-cca3055bf34e",
   "metadata": {},
   "outputs": [],
   "source": [
    "embedding = make_embedding()"
   ]
  },
  {
   "cell_type": "code",
   "execution_count": 113,
   "id": "19ea1808-7aad-483c-a6c5-498d0a42282b",
   "metadata": {},
   "outputs": [],
   "source": [
    "# Siamese L1 Distance class\n",
    "class L1Dist(Layer):\n",
    "    #Init method - inheritance\n",
    "    def __init__(self, **kwargs):\n",
    "        super().__init__()\n",
    "    \n",
    "    #Magical shit - similarity calculation\n",
    "    def call(self, input_embedding, validation_embedding):\n",
    "        return tf.math.abs(input_embedding - validation_embedding)"
   ]
  },
  {
   "cell_type": "code",
   "execution_count": 114,
   "id": "10b12006-375e-45b7-b5a8-436393cead2b",
   "metadata": {},
   "outputs": [],
   "source": [
    "def make_siamese_model():\n",
    "    # Anchor image in network\n",
    "    input_image = Input(name = 'input_img', shape = (100, 100,3))\n",
    "    \n",
    "    #Validation image in network\n",
    "    validation_image = Input(name = 'validation_img', shape = (100, 100, 3))\n",
    "    \n",
    "    #Combine siamese distance components\n",
    "    siamese_layer = L1Dist()\n",
    "    siamese_layer._name = 'distance'\n",
    "    distances = siamese_layer(embedding(input_image), embedding(validation_image))\n",
    "    \n",
    "    #Classification Layer\n",
    "    classifier = Dense(1, activation = 'sigmoid')(distances)\n",
    "    \n",
    "    return Model(inputs = [input_image, validation_image], outputs = classifier, name = 'SiameseNetwork')"
   ]
  },
  {
   "cell_type": "code",
   "execution_count": 115,
   "id": "441b53d4-4743-40e3-ad56-99b9202c9c5d",
   "metadata": {},
   "outputs": [],
   "source": [
    "avery_model = make_siamese_model()"
   ]
  },
  {
   "cell_type": "code",
   "execution_count": 116,
   "id": "40c20e53-7873-4296-b906-4b3f13798316",
   "metadata": {},
   "outputs": [],
   "source": [
    "binary_cross_loss = tf.losses.BinaryCrossentropy()"
   ]
  },
  {
   "cell_type": "code",
   "execution_count": 117,
   "id": "15bfeba3-5adc-4aec-a5e3-56b0793566e0",
   "metadata": {},
   "outputs": [],
   "source": [
    "opt = tf.keras.optimizers.Adam(1e-4)"
   ]
  },
  {
   "cell_type": "code",
   "execution_count": 118,
   "id": "6e97078c-cc12-4ac7-b382-092d59953080",
   "metadata": {},
   "outputs": [],
   "source": [
    "checkpoint_dir = './training_checkpoints'\n",
    "checkpoint_prefix = os.path.join(checkpoint_dir, 'ckpt')\n",
    "checkpoint = tf.train.Checkpoint(opt=opt, avery_model=avery_model)"
   ]
  },
  {
   "cell_type": "code",
   "execution_count": 119,
   "id": "2200a314-64be-4cbe-af03-ef39fd5525f1",
   "metadata": {},
   "outputs": [],
   "source": [
    "@tf.function\n",
    "def train_step(batch):\n",
    "    \n",
    "    #Record all of our operations\n",
    "    with tf.GradientTape() as tape:\n",
    "        #Get anchor and positive/negative images\n",
    "        X = batch[:2]\n",
    "        #Get label\n",
    "        y = batch[2]\n",
    "        \n",
    "        #Forward pass\n",
    "        yhat = avery_model(X, training = True)\n",
    "        #Calculate loss\n",
    "        loss = binary_cross_loss(y, yhat)\n",
    "    print(loss)\n",
    "    \n",
    "    #Calculate gradients\n",
    "    grad = tape.gradient(loss, avery_model.trainable_variables)\n",
    "    \n",
    "    #Calculate updated weights and apply to siamese model\n",
    "    opt.apply_gradients(zip(grad, avery_model.trainable_variables))\n",
    "    \n",
    "    #Return loss\n",
    "    return loss\n",
    "                    "
   ]
  },
  {
   "cell_type": "code",
   "execution_count": 120,
   "id": "e6f08aa4-8442-460c-b3bc-3dc1a31a733d",
   "metadata": {},
   "outputs": [],
   "source": [
    "def train(data, EPOCHS):\n",
    "    # Loop through epochs\n",
    "    for epoch in range(1, EPOCHS+1):\n",
    "        print('\\n Epoch {}\\{}'.format(epoch, EPOCHS))\n",
    "        progbar = tf.keras.utils.Progbar(len(data))\n",
    "        \n",
    "    # Loop through each batch\n",
    "        for idx, batch in enumerate(data):\n",
    "        #Run train step here\n",
    "            train_step(batch)\n",
    "            progbar.update(idx+1)\n",
    "        \n",
    "        if epoch % 10 ==0:\n",
    "            checkpoint.save(file_prefix=checkpoint_prefix)"
   ]
  },
  {
   "cell_type": "code",
   "execution_count": 121,
   "id": "55ff82f9-5b40-4ee1-a9b4-17cc98ae3e82",
   "metadata": {},
   "outputs": [],
   "source": [
    "EPOCH = 50"
   ]
  },
  {
   "cell_type": "code",
   "execution_count": 122,
   "id": "ab8036fa-0b50-493e-afb8-9baecaafc09b",
   "metadata": {},
   "outputs": [
    {
     "name": "stdout",
     "output_type": "stream",
     "text": [
      "\n",
      " Epoch 1\\50\n",
      "Tensor(\"binary_crossentropy/weighted_loss/value:0\", shape=(), dtype=float32)\n",
      "Tensor(\"binary_crossentropy/weighted_loss/value:0\", shape=(), dtype=float32)\n",
      "26/27 [===========================>..] - ETA: 0sTensor(\"binary_crossentropy/weighted_loss/value:0\", shape=(), dtype=float32)\n",
      "27/27 [==============================] - 4s 121ms/step\n",
      "\n",
      " Epoch 2\\50\n",
      "27/27 [==============================] - 3s 115ms/step\n",
      "\n",
      " Epoch 3\\50\n",
      "27/27 [==============================] - 3s 115ms/step\n",
      "\n",
      " Epoch 4\\50\n",
      "27/27 [==============================] - 3s 114ms/step\n",
      "\n",
      " Epoch 5\\50\n",
      "27/27 [==============================] - 3s 114ms/step\n",
      "\n",
      " Epoch 6\\50\n",
      "27/27 [==============================] - 3s 114ms/step\n",
      "\n",
      " Epoch 7\\50\n",
      "27/27 [==============================] - 3s 114ms/step\n",
      "\n",
      " Epoch 8\\50\n",
      "27/27 [==============================] - 3s 114ms/step\n",
      "\n",
      " Epoch 9\\50\n",
      "27/27 [==============================] - 3s 114ms/step\n",
      "\n",
      " Epoch 10\\50\n",
      "27/27 [==============================] - 3s 114ms/step\n",
      "\n",
      " Epoch 11\\50\n",
      "27/27 [==============================] - 3s 114ms/step\n",
      "\n",
      " Epoch 12\\50\n",
      "27/27 [==============================] - 3s 113ms/step\n",
      "\n",
      " Epoch 13\\50\n",
      "27/27 [==============================] - 3s 114ms/step\n",
      "\n",
      " Epoch 14\\50\n",
      "27/27 [==============================] - 3s 114ms/step\n",
      "\n",
      " Epoch 15\\50\n",
      "27/27 [==============================] - 3s 115ms/step\n",
      "\n",
      " Epoch 16\\50\n",
      "27/27 [==============================] - 3s 115ms/step\n",
      "\n",
      " Epoch 17\\50\n",
      "27/27 [==============================] - 3s 115ms/step\n",
      "\n",
      " Epoch 18\\50\n",
      "27/27 [==============================] - 3s 114ms/step\n",
      "\n",
      " Epoch 19\\50\n",
      "27/27 [==============================] - 3s 115ms/step\n",
      "\n",
      " Epoch 20\\50\n",
      "27/27 [==============================] - 3s 114ms/step\n",
      "\n",
      " Epoch 21\\50\n",
      "27/27 [==============================] - 3s 116ms/step\n",
      "\n",
      " Epoch 22\\50\n",
      "27/27 [==============================] - 3s 114ms/step\n",
      "\n",
      " Epoch 23\\50\n",
      "27/27 [==============================] - 3s 115ms/step\n",
      "\n",
      " Epoch 24\\50\n",
      "27/27 [==============================] - 3s 115ms/step\n",
      "\n",
      " Epoch 25\\50\n",
      "27/27 [==============================] - 3s 115ms/step\n",
      "\n",
      " Epoch 26\\50\n",
      "27/27 [==============================] - 3s 114ms/step\n",
      "\n",
      " Epoch 27\\50\n",
      "27/27 [==============================] - 3s 114ms/step\n",
      "\n",
      " Epoch 28\\50\n",
      "27/27 [==============================] - 3s 115ms/step\n",
      "\n",
      " Epoch 29\\50\n",
      "27/27 [==============================] - 3s 115ms/step\n",
      "\n",
      " Epoch 30\\50\n",
      "27/27 [==============================] - 3s 114ms/step\n",
      "\n",
      " Epoch 31\\50\n",
      "27/27 [==============================] - 3s 116ms/step\n",
      "\n",
      " Epoch 32\\50\n",
      "27/27 [==============================] - 3s 114ms/step\n",
      "\n",
      " Epoch 33\\50\n",
      "27/27 [==============================] - 3s 115ms/step\n",
      "\n",
      " Epoch 34\\50\n",
      "27/27 [==============================] - 3s 115ms/step\n",
      "\n",
      " Epoch 35\\50\n",
      "27/27 [==============================] - 3s 115ms/step\n",
      "\n",
      " Epoch 36\\50\n",
      "27/27 [==============================] - 3s 114ms/step\n",
      "\n",
      " Epoch 37\\50\n",
      "27/27 [==============================] - 3s 115ms/step\n",
      "\n",
      " Epoch 38\\50\n",
      "27/27 [==============================] - 3s 114ms/step\n",
      "\n",
      " Epoch 39\\50\n",
      "27/27 [==============================] - 3s 115ms/step\n",
      "\n",
      " Epoch 40\\50\n",
      "27/27 [==============================] - 3s 115ms/step\n",
      "\n",
      " Epoch 41\\50\n",
      "27/27 [==============================] - 3s 116ms/step\n",
      "\n",
      " Epoch 42\\50\n",
      "27/27 [==============================] - 3s 115ms/step\n",
      "\n",
      " Epoch 43\\50\n",
      "27/27 [==============================] - 3s 115ms/step\n",
      "\n",
      " Epoch 44\\50\n",
      "27/27 [==============================] - 3s 116ms/step\n",
      "\n",
      " Epoch 45\\50\n",
      "27/27 [==============================] - 3s 114ms/step\n",
      "\n",
      " Epoch 46\\50\n",
      "27/27 [==============================] - 3s 115ms/step\n",
      "\n",
      " Epoch 47\\50\n",
      "27/27 [==============================] - 3s 114ms/step\n",
      "\n",
      " Epoch 48\\50\n",
      "27/27 [==============================] - 3s 114ms/step\n",
      "\n",
      " Epoch 49\\50\n",
      "27/27 [==============================] - 3s 114ms/step\n",
      "\n",
      " Epoch 50\\50\n",
      "27/27 [==============================] - 3s 115ms/step\n"
     ]
    }
   ],
   "source": [
    "train(train_data, EPOCH)"
   ]
  },
  {
   "cell_type": "code",
   "execution_count": 123,
   "id": "ef5a7166-8fe9-4bd6-998b-c4e8f0d3e451",
   "metadata": {},
   "outputs": [],
   "source": [
    "from tensorflow.keras.metrics import Precision, Recall"
   ]
  },
  {
   "cell_type": "code",
   "execution_count": 124,
   "id": "2747376f-6d4e-4605-b693-7a3432393061",
   "metadata": {},
   "outputs": [],
   "source": [
    "# Get batch of test data\n",
    "test_input, test_val, y_true = test_data.as_numpy_iterator().next()"
   ]
  },
  {
   "cell_type": "code",
   "execution_count": 125,
   "id": "3cbfc79f-91a4-46a0-812e-09bbc6472dae",
   "metadata": {},
   "outputs": [],
   "source": [
    "# Make predictions\n",
    "y_hat = avery_model.predict([test_input, test_val])"
   ]
  },
  {
   "cell_type": "code",
   "execution_count": 126,
   "id": "f73ba5b9-6145-465f-b1c4-8264f996e331",
   "metadata": {},
   "outputs": [
    {
     "data": {
      "text/plain": [
       "[0, 0, 0, 0, 1, 0, 1, 1, 1, 1, 1, 1, 0, 1, 1, 1]"
      ]
     },
     "execution_count": 126,
     "metadata": {},
     "output_type": "execute_result"
    }
   ],
   "source": [
    "# Post processing results\n",
    "[1 if prediction > 0.5 else 0 for prediction in y_hat]"
   ]
  },
  {
   "cell_type": "code",
   "execution_count": 127,
   "id": "b73ab7d6-1edc-4391-bc81-996c4e2b5a8f",
   "metadata": {},
   "outputs": [
    {
     "data": {
      "text/plain": [
       "1.0"
      ]
     },
     "execution_count": 127,
     "metadata": {},
     "output_type": "execute_result"
    }
   ],
   "source": [
    "# Creating a metric object\n",
    "m = Recall()\n",
    "\n",
    "# Calculating recall value\n",
    "m.update_state(y_true, y_hat)\n",
    "\n",
    "# Return result\n",
    "m.result().numpy()"
   ]
  },
  {
   "cell_type": "code",
   "execution_count": 128,
   "id": "207b8155-0404-40cb-9ae4-efbf369d6419",
   "metadata": {},
   "outputs": [
    {
     "data": {
      "image/png": "[encoded data removed]",
      "text/plain": [
       "<Figure size 1296x576 with 2 Axes>"
      ]
     },
     "metadata": {
      "needs_background": "light"
     },
     "output_type": "display_data"
    }
   ],
   "source": [
    "# Visualizing results\n",
    "\n",
    "# Set plot size\n",
    "plt.figure(figsize = (18,8))\n",
    "\n",
    "# Set first subplot\n",
    "plt.subplot(1, 2, 1)\n",
    "plt.imshow(test_input[3])\n",
    "\n",
    "# Set Second subplot\n",
    "plt.subplot(1, 2, 2)\n",
    "plt.imshow(test_val[3])\n",
    "\n",
    "plt.show()"
   ]
  },
  {
   "cell_type": "code",
   "execution_count": 129,
   "id": "1984525a-ff04-4abb-80a7-acb5a89dfee5",
   "metadata": {},
   "outputs": [
    {
     "name": "stdout",
     "output_type": "stream",
     "text": [
      "WARNING:tensorflow:Compiled the loaded model, but the compiled metrics have yet to be built. `model.compile_metrics` will be empty until you train or evaluate the model.\n"
     ]
    }
   ],
   "source": [
    "#save model(throws a warning, I don't know what it means, and it doesn't seem to effect anything)\n",
    "avery_model.save('averymodel.h5')"
   ]
  },
  {
   "cell_type": "code",
   "execution_count": 130,
   "id": "23a84a0c-e1e1-48a1-8a6c-6b72cc1a69f0",
   "metadata": {},
   "outputs": [
    {
     "name": "stdout",
     "output_type": "stream",
     "text": [
      "WARNING:tensorflow:No training configuration found in the save file, so the model was *not* compiled. Compile it manually.\n"
     ]
    }
   ],
   "source": [
    "#Reload model\n",
    "model = tf.keras.models.load_model('averymodel.h5',\n",
    "                                   custom_objects = {'L1Dist':L1Dist, 'BinaerCrossentropy':tf.losses.BinaryCrossentropy})"
   ]
  },
  {
   "cell_type": "code",
   "execution_count": 131,
   "id": "d107fbed-b733-424c-a03b-abe0090e7ac4",
   "metadata": {},
   "outputs": [],
   "source": [
    "def verify(model, detection_threshold, verification_threshold):\n",
    "    #Build results array\n",
    "    results = []\n",
    "    for image in os.listdir(os.path.join('application_data', 'verification_images')):\n",
    "        input_img = preprocess(os.path.join('application_data', 'input_image', 'input_image.jpg'))\n",
    "        validation_img = preprocess(os.path.join('application_data', 'verification_images', image))\n",
    "        \n",
    "        result = model.predict(list(np.expand_dims([input_img, validation_img], axis = 1)))\n",
    "        results.append(result)\n",
    "        \n",
    "    #Detection Threshold: Metric above which a prediction is considered positive\n",
    "    detection = np.sum(np.array(results) > detection_threshold)\n",
    "    \n",
    "    #Verification Threshold: Proportion of positive predictions / total positive samples\n",
    "    verification = detection / len(os.listdir(os.path.join('application_data', 'verification_images')))\n",
    "    verified = verification > verification_threshold\n",
    "    \n",
    "    return results, verified"
   ]
  },
  {
   "cell_type": "code",
   "execution_count": 132,
   "id": "4a4886be-d9bf-4fc7-aab3-de8e63d8f684",
   "metadata": {},
   "outputs": [
    {
     "name": "stdout",
     "output_type": "stream",
     "text": [
      "True\n",
      "True\n",
      "False\n"
     ]
    }
   ],
   "source": [
    "cap = cv2.VideoCapture(0)\n",
    "while cap.isOpened():\n",
    "    ret, frame = cap.read()\n",
    "    \n",
    "    frame = frame[120:120+250, 200:200+250, :]\n",
    "    \n",
    "    cv2.imshow('Verification', frame)\n",
    "    \n",
    "    #Verification trigger\n",
    "    if cv2.waitKey(10) & 0xFF == ord('v'):\n",
    "        # Save input Image to input folder\n",
    "        cv2.imwrite(os.path.join('application_data', 'input_image', 'input_image.jpg'), frame)\n",
    "        \n",
    "        #Run Verification\n",
    "        results, verified = verify(model, 0.75, 0.75)\n",
    "        print(verified)\n",
    "        \n",
    "    \n",
    "    if cv2.waitKey(10) & 0xFF == ord('q'):\n",
    "        break\n",
    "cap.release()\n",
    "cv2.destroyAllWindows()"
   ]
  },
  {
   "cell_type": "code",
   "execution_count": null,
   "id": "d6f7cc44-16e0-4902-9f32-77dfdd526507",
   "metadata": {},
   "outputs": [],
   "source": []
  }
 ],
 "metadata": {
  "kernelspec": {
   "display_name": "gpu2",
   "language": "python",
   "name": "gpu2"
  },
  "language_info": {
   "codemirror_mode": {
    "name": "ipython",
    "version": 3
   },
   "file_extension": ".py",
   "mimetype": "text/x-python",
   "name": "python",
   "nbconvert_exporter": "python",
   "pygments_lexer": "ipython3",
   "version": "3.9.7"
  }
 },
 "nbformat": 4,
 "nbformat_minor": 5
}
